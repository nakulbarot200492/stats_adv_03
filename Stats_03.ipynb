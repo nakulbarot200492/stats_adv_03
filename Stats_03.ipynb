{
 "cells": [
  {
   "cell_type": "markdown",
   "id": "b0eb3751-9187-4bb9-8478-e9ad4b36e6fb",
   "metadata": {},
   "source": [
    "### Q1: What is Estimation Statistics? Explain point estimate and interval estimate.\n",
    "\n",
    "Estimation Statistics is a branch of statistics that deals with using sample data to estimate parameters of a population. There are two main types of estimates:\n",
    "\n",
    "#### 1.Point Estimate: A single value that serves as the best estimate of an unknown population parameter.\n",
    "#### 2.Interval Estimate: A range of values that is likely to contain the population parameter with a certain level of confidence."
   ]
  },
  {
   "cell_type": "code",
   "execution_count": 1,
   "id": "c464dfe1-4a2e-4b54-bc7c-55327469f824",
   "metadata": {},
   "outputs": [
    {
     "name": "stdout",
     "output_type": "stream",
     "text": [
      "Estimated population mean is between 46.42 and 53.58\n"
     ]
    }
   ],
   "source": [
    "# Q2. Write a Python function to estimate the population mean using a sample mean and standard deviation.\n",
    "\n",
    "import math\n",
    "\n",
    "def estimate_population_mean(sample_mean, sample_std_dev, sample_size):\n",
    "    # Calculate the standard error of the mean\n",
    "    standard_error = sample_std_dev / math.sqrt(sample_size)\n",
    "    \n",
    "    # Calculate the margin of error (for a 95% confidence interval, z-score is 1.96)\n",
    "    z_score = 1.96\n",
    "    margin_of_error = z_score * standard_error\n",
    "    \n",
    "    # Calculate the confidence interval\n",
    "    lower_bound = sample_mean - margin_of_error\n",
    "    upper_bound = sample_mean + margin_of_error\n",
    "    \n",
    "    return lower_bound, upper_bound\n",
    "\n",
    "# Example usage\n",
    "sample_mean = 50\n",
    "sample_std_dev = 10\n",
    "sample_size = 30\n",
    "\n",
    "lower_bound, upper_bound = estimate_population_mean(sample_mean, sample_std_dev, sample_size)\n",
    "print(f\"Estimated population mean is between {lower_bound:.2f} and {upper_bound:.2f}\")\n"
   ]
  },
  {
   "cell_type": "markdown",
   "id": "d0df11ce-62d5-42a8-bfaf-82497eca4208",
   "metadata": {},
   "source": [
    "### Q3: What is Hypothesis testing? Why is it used? State the importance of Hypothesis testing.\n",
    "\n",
    "#### Hypothesis testing is a statistical method used to make decisions or inferences about population parameters based on sample data. It involves formulating two competing hypotheses: the null hypothesis (H₀), which represents no effect or no difference, and the alternative hypothesis (H₁), which represents an effect or a difference.\n",
    "\n",
    "\n",
    "#### Hypothesis testing is used to:\n",
    "\n",
    "##### 1.Evaluate Claims: It helps in assessing the validity of claims or theories based on sample data.\n",
    "##### 2.Make Decisions: It provides a structured framework for making decisions in the presence of uncertainty.\n",
    "##### 3.Test Relationships: It is used to test relationships between variables and determine if observed patterns are statistically significant.\n",
    "\n",
    "#### Importance of Hypothesis Testing\n",
    "##### 1.Scientific Research: It is fundamental in scientific research for testing theories and hypotheses.\n",
    "##### 2.Data-Driven Decisions: It enables data-driven decision-making, reducing reliance on intuition or guesswork.\n",
    "##### 3.Error Minimization: It helps in minimizing Type I (false positive) and Type II (false negative) errors.\n",
    "##### 4.Generalization: It allows researchers to generalize findings from a sample to a larger population.\n",
    "##### 5.Hypothesis testing is widely used in various fields such as medical research, social sciences, and business analysis to ensure that conclusions drawn from data are reliable and valid"
   ]
  },
  {
   "cell_type": "markdown",
   "id": "aa165c1a-baa5-4dcf-9a12-7189ad4c5857",
   "metadata": {},
   "source": [
    "#### Q4. Create a hypothesis that states whether the average weight of male college students is greater than the average weight of female college students.\n",
    "\n",
    "##### Null Hypothesis (H0): The average weight of male college students is equal to or less than the average weight of female college students.\n",
    "##### Alternative Hypothesis (H1): The average weight of male college students is greater than the average weight of female college students.\n",
    "Mathematically:\n",
    "H0: μm ≤ μf\n",
    "H1: μm > μf\n",
    "Where μm is the population mean weight of male college students and μf is the population mean weight of female college students."
   ]
  },
  {
   "cell_type": "code",
   "execution_count": 2,
   "id": "c4ebbde4-83bc-481d-afd2-39e296eb7756",
   "metadata": {},
   "outputs": [
    {
     "name": "stdout",
     "output_type": "stream",
     "text": [
      "T-statistic: 1.4121396302374711\n",
      "Degrees of freedom: 13.964513378426172\n",
      "P-value: 0.17980411390580087\n",
      "Decision: Fail to reject the null hypothesis\n"
     ]
    }
   ],
   "source": [
    "## Q5. Write a Python script to conduct a hypothesis test on the difference between two population means,\n",
    "## given a sample from each population.\n",
    "\n",
    "import numpy as np\n",
    "from scipy import stats\n",
    "\n",
    "def two_sample_t_test(sample1, sample2, alpha=0.05):\n",
    "    # Calculate sample statistics\n",
    "    n1, n2 = len(sample1), len(sample2)\n",
    "    mean1, mean2 = np.mean(sample1), np.mean(sample2)\n",
    "    var1, var2 = np.var(sample1, ddof=1), np.var(sample2, ddof=1)\n",
    "    \n",
    "    # Calculate pooled standard deviation\n",
    "    pooled_se = np.sqrt(var1/n1 + var2/n2)\n",
    "    \n",
    "    # Calculate t-statistic\n",
    "    t_stat = (mean1 - mean2) / pooled_se\n",
    "    \n",
    "    # Calculate degrees of freedom using Welch–Satterthwaite equation\n",
    "    df = (var1/n1 + var2/n2)**2 / ((var1/n1)**2/(n1-1) + (var2/n2)**2/(n2-1))\n",
    "    \n",
    "    # Calculate p-value\n",
    "    p_value = (1 - stats.t.cdf(abs(t_stat), df)) * 2\n",
    "    \n",
    "    # Make decision\n",
    "    if p_value < alpha:\n",
    "        decision = \"Reject the null hypothesis\"\n",
    "    else:\n",
    "        decision = \"Fail to reject the null hypothesis\"\n",
    "    \n",
    "    return t_stat, df, p_value, decision\n",
    "\n",
    "# Example usage\n",
    "sample1 = [25, 28, 30, 32, 33, 35, 37, 39]\n",
    "sample2 = [22, 24, 26, 28, 30, 32, 34, 36]\n",
    "\n",
    "t_stat, df, p_value, decision = two_sample_t_test(sample1, sample2)\n",
    "\n",
    "print(f\"T-statistic: {t_stat}\")\n",
    "print(f\"Degrees of freedom: {df}\")\n",
    "print(f\"P-value: {p_value}\")\n",
    "print(f\"Decision: {decision}\")\n"
   ]
  },
  {
   "cell_type": "markdown",
   "id": "fda62e81-8dfe-45a7-8c69-f6374f53ff63",
   "metadata": {},
   "source": [
    "## Q6: What is a null and alternative hypothesis? Give some examples.\n",
    "\n",
    "A null hypothesis (H0) and alternative hypothesis (H1) are two competing statements about a population parameter in hypothesis testing.\n",
    "\n",
    "Null Hypothesis (H0):\n",
    "\n",
    "--States that there is no significant difference or effect\n",
    "--Assumes the status quo\n",
    "--What we're trying to disprove\n",
    "\n",
    "\n",
    "Alternative Hypothesis (H1):\n",
    "\n",
    "--States that there is a significant difference or effect\n",
    "--Represents the research question or claim\n",
    "--What we're trying to prove\n",
    "\n",
    "\n",
    "\n",
    "Examples:\n",
    "\n",
    "Testing a new drug:\n",
    "H0: The new drug has no effect on blood pressure\n",
    "H1: The new drug reduces blood pressure\n",
    "Comparing test scores:\n",
    "H0: The mean test scores of two groups are equal\n",
    "H1: The mean test scores of two groups are different\n",
    "Checking manufacturing quality:\n",
    "H0: The mean weight of products is 100g\n",
    "H1: The mean weight of products is not 100g\n",
    "Evaluating a marketing campaign:\n",
    "H0: The new campaign does not increase sales\n",
    "H1: The new campaign increases sales"
   ]
  },
  {
   "cell_type": "markdown",
   "id": "b4885531-d056-49bd-b770-37233459b198",
   "metadata": {},
   "source": [
    "## Q7: Write down the steps involved in hypothesis testing.\n",
    "\n",
    "The steps involved in hypothesis testing are:\n",
    "\n",
    "### 1.Formulate the null (H0) and alternative (H1) hypotheses\n",
    "### 2.Choose a significance level (α)\n",
    "### 3.Select the appropriate test statistic\n",
    "### 4.Determine the critical region or p-value\n",
    "### 5.Collect sample data and calculate the test statistic\n",
    "### 6.Compare the test statistic with the critical value or p-value\n",
    "### 7.Make a decision to reject or fail to reject the null hypothesis\n",
    "### 8.Interpret the results in the context of the problem"
   ]
  },
  {
   "cell_type": "markdown",
   "id": "d98b6377-6ba4-4255-a2f5-b197b52b824d",
   "metadata": {},
   "source": [
    "## Q8. Define p-value and explain its significance in hypothesis testing.\n",
    "\n",
    "A p-value is the probability of obtaining test results at least as extreme as the observed results, assuming that the null hypothesis is true. In hypothesis testing, the p-value is used to quantify the strength of evidence against the null hypothesis.\n",
    "Significance in hypothesis testing:\n",
    "\n",
    "#### 1.It helps in decision-making: If the p-value is less than the chosen significance level (α), we reject the null hypothesis.\n",
    "#### 2.Measures evidence: Smaller p-values indicate stronger evidence against the null hypothesis.\n",
    "#### 3.Quantifies uncertainty: It represents the probability of making a Type I error (rejecting a true null hypothesis)."
   ]
  },
  {
   "cell_type": "code",
   "execution_count": 3,
   "id": "0a997386-52a7-491d-b826-a24566a84454",
   "metadata": {},
   "outputs": [
    {
     "data": {
      "image/png": "[encoded data removed]",
      "text/plain": [
       "<Figure size 1000x600 with 1 Axes>"
      ]
     },
     "metadata": {},
     "output_type": "display_data"
    }
   ],
   "source": [
    "## Q9. Generate a Student's t-distribution plot using Python's matplotlib library, \n",
    "## with the degrees of freedom parameter set to 10.\n",
    "\n",
    "import numpy as np\n",
    "import matplotlib.pyplot as plt\n",
    "from scipy import stats\n",
    "\n",
    "def plot_t_distribution(df):\n",
    "    x = np.linspace(-4, 4, 1000)\n",
    "    y = stats.t.pdf(x, df)\n",
    "    \n",
    "    plt.figure(figsize=(10, 6))\n",
    "    plt.plot(x, y, label=f't-distribution (df={df})')\n",
    "    plt.plot(x, stats.norm.pdf(x), label='Standard Normal', linestyle='--')\n",
    "    plt.title(\"Student's t-distribution vs Standard Normal Distribution\")\n",
    "    plt.xlabel('x')\n",
    "    plt.ylabel('Probability Density')\n",
    "    plt.legend()\n",
    "    plt.grid(True)\n",
    "    plt.show()\n",
    "\n",
    "# Generate plot with df = 10\n",
    "plot_t_distribution(10)"
   ]
  },
  {
   "cell_type": "code",
   "execution_count": 4,
   "id": "770bf8b7-040b-4dca-af1d-ecf0264e938d",
   "metadata": {},
   "outputs": [
    {
     "name": "stdout",
     "output_type": "stream",
     "text": [
      "T-statistic: -2.398115152010244\n",
      "Degrees of freedom: 58\n",
      "P-value: 0.019717941865758037\n",
      "Decision: Reject the null hypothesis\n"
     ]
    }
   ],
   "source": [
    "##Q10. Write a Python program to calculate the two-sample t-test for independent samples, given two\n",
    "## random samples of equal size and a null hypothesis that the population means are equal.\n",
    "import numpy as np\n",
    "from scipy import stats\n",
    "\n",
    "def two_sample_t_test(sample1, sample2, alpha=0.05):\n",
    "    # Calculate sample statistics\n",
    "    n1, n2 = len(sample1), len(sample2)\n",
    "    mean1, mean2 = np.mean(sample1), np.mean(sample2)\n",
    "    var1, var2 = np.var(sample1, ddof=1), np.var(sample2, ddof=1)\n",
    "    \n",
    "    # Calculate pooled standard deviation\n",
    "    pooled_sd = np.sqrt(((n1 - 1) * var1 + (n2 - 1) * var2) / (n1 + n2 - 2))\n",
    "    \n",
    "    # Calculate t-statistic\n",
    "    t_stat = (mean1 - mean2) / (pooled_sd * np.sqrt(2/n1))\n",
    "    \n",
    "    # Calculate degrees of freedom\n",
    "    df = 2 * n1 - 2\n",
    "    \n",
    "    # Calculate p-value\n",
    "    p_value = (1 - stats.t.cdf(abs(t_stat), df)) * 2\n",
    "    \n",
    "    # Make decision\n",
    "    if p_value < alpha:\n",
    "        decision = \"Reject the null hypothesis\"\n",
    "    else:\n",
    "        decision = \"Fail to reject the null hypothesis\"\n",
    "    \n",
    "    return t_stat, df, p_value, decision\n",
    "\n",
    "# Example usage\n",
    "np.random.seed(42)\n",
    "sample1 = np.random.normal(loc=10, scale=2, size=30)\n",
    "sample2 = np.random.normal(loc=11, scale=2, size=30)\n",
    "\n",
    "t_stat, df, p_value, decision = two_sample_t_test(sample1, sample2)\n",
    "\n",
    "print(f\"T-statistic: {t_stat}\")\n",
    "print(f\"Degrees of freedom: {df}\")\n",
    "print(f\"P-value: {p_value}\")\n",
    "print(f\"Decision: {decision}\")"
   ]
  },
  {
   "cell_type": "raw",
   "id": "31691a38-6ff3-43c5-9adc-e4dc7c1d9d24",
   "metadata": {},
   "source": [
    "11,12 question\n",
    "Q11: What is Student's t distribution? When to use the t-Distribution.\n",
    "\n",
    "Student's t-distribution is a probability distribution that is used in statistical inference when the sample size is small and the population standard deviation is unknown. It is similar to the normal distribution but has heavier tails, reflecting the increased uncertainty in small samples.\n",
    "When to use the t-Distribution:\n",
    "\n",
    "Small sample sizes (typically n < 30)\n",
    "Population standard deviation is unknown\n",
    "Conducting t-tests (one-sample, paired, or independent two-sample)\n",
    "Constructing confidence intervals for means\n",
    "Regression analysis\n",
    "\n",
    "Q12: What is t-statistic? State the formula for t-statistic.\n",
    "The t-statistic is a measure of the difference between an observed sample statistic and its hypothesized population parameter in units of standard error. It is used in various statistical tests, including t-tests.\n",
    "Formula for t-statistic:\n",
    "For a one-sample t-test:\n",
    "t = (x̄ - μ) / (s / √n)\n",
    "Where:\n",
    "x̄ = sample mean\n",
    "μ = hypothesized population mean\n",
    "s = sample standard deviation\n",
    "n = sample size\n",
    "For a two-sample t-test (assuming equal variances):\n",
    "t = (x̄₁ - x̄₂) / (sp * √(2/n))\n",
    "Where:\n",
    "x̄₁, x̄₂ = means of the two samples\n",
    "sp = pooled standard deviation\n",
    "n = sample size (assuming equal sample sizes)"
   ]
  },
  {
   "cell_type": "code",
   "execution_count": 6,
   "id": "c3fe8180-a982-4e01-b719-143463350490",
   "metadata": {},
   "outputs": [
    {
     "name": "stdout",
     "output_type": "stream",
     "text": [
      "Estimated population mean revenue is between $486.14 and $513.86\n"
     ]
    }
   ],
   "source": [
    "## Q13. A coffee shop owner wants to estimate the average daily revenue for their shop. They take a random sample of 50 days and find the sample mean revenue to be $500 with a standard deviation of $50. \n",
    "# Estimate the population mean revenue with a 95% confidence interval.\n",
    "\n",
    "import math\n",
    "\n",
    "def estimate_population_mean_confidence_interval(sample_mean, sample_std_dev, sample_size, confidence_level=0.95):\n",
    "    # Calculate the standard error\n",
    "    standard_error = sample_std_dev / math.sqrt(sample_size)\n",
    "    \n",
    "    # Z-score for 95% confidence level\n",
    "    z_score = 1.96\n",
    "    \n",
    "    # Calculate the margin of error\n",
    "    margin_of_error = z_score * standard_error\n",
    "    \n",
    "    # Calculate the confidence interval\n",
    "    lower_bound = sample_mean - margin_of_error\n",
    "    upper_bound = sample_mean + margin_of_error\n",
    "    \n",
    "    return lower_bound, upper_bound\n",
    "\n",
    "# Example usage\n",
    "sample_mean = 500\n",
    "sample_std_dev = 50\n",
    "sample_size = 50\n",
    "\n",
    "lower_bound, upper_bound = estimate_population_mean_confidence_interval(sample_mean, sample_std_dev, sample_size)\n",
    "print(f\"Estimated population mean revenue is between ${lower_bound:.2f} and ${upper_bound:.2f}\")\n"
   ]
  },
  {
   "cell_type": "code",
   "execution_count": 7,
   "id": "1eb07cca-f607-484e-ae4f-6fa76703ac51",
   "metadata": {},
   "outputs": [
    {
     "name": "stdout",
     "output_type": "stream",
     "text": [
      "t-statistic: -6.67\n",
      "p-value: 0.00000\n",
      "Reject the null hypothesis.\n"
     ]
    }
   ],
   "source": [
    "### Q14. A researcher hypothesizes that a new drug will decrease blood pressure by 10 mmHg. \n",
    "## They conduct a clinical trial with 100 patients and find that the sample mean decrease in blood pressure is 8 mmHg \n",
    "## with a standard deviation of 3 mmHg. \n",
    "## Test the hypothesis with a significance level of 0.05.\n",
    "\n",
    "import scipy.stats as stats\n",
    "\n",
    "# Given data\n",
    "sample_mean = 8\n",
    "hypothesized_mean = 10\n",
    "sample_std_dev = 3\n",
    "sample_size = 100\n",
    "\n",
    "# Calculate the test statistic\n",
    "standard_error = sample_std_dev / (sample_size ** 0.5)\n",
    "t_statistic = (sample_mean - hypothesized_mean) / standard_error\n",
    "\n",
    "# Calculate the p-value\n",
    "p_value = 2 * (1 - stats.t.cdf(abs(t_statistic), df=sample_size-1))\n",
    "\n",
    "# Output the results\n",
    "print(f\"t-statistic: {t_statistic:.2f}\")\n",
    "print(f\"p-value: {p_value:.5f}\")\n",
    "\n",
    "# Decision\n",
    "alpha = 0.05\n",
    "if p_value < alpha:\n",
    "    print(\"Reject the null hypothesis.\")\n",
    "else:\n",
    "    print(\"Fail to reject the null hypothesis.\")\n"
   ]
  },
  {
   "cell_type": "code",
   "execution_count": 8,
   "id": "e18be1c2-2630-4bdf-9347-6a880f5e6645",
   "metadata": {},
   "outputs": [
    {
     "name": "stdout",
     "output_type": "stream",
     "text": [
      "T-statistic: -2.0000\n",
      "P-value: 0.0285\n",
      "Decision: Fail to reject the null hypothesis\n"
     ]
    }
   ],
   "source": [
    "## Q15. An electronics company produces a certain type of product with a mean weight of 5 pounds and a standard deviation of 0.5 pounds. A random sample of 25 products is taken, and the sample mean weight is found to be 4.8 pounds. \n",
    "# Test the hypothesis that the true mean weight of the products is less than 5 pounds with a significance level of 0.01.\n",
    "\n",
    "import scipy.stats as stats\n",
    "\n",
    "def one_sample_t_test(sample_mean, sample_std, sample_size, hypothesized_mean, alpha, alternative='two-sided'):\n",
    "    t_stat = (sample_mean - hypothesized_mean) / (sample_std / (sample_size ** 0.5))\n",
    "    degrees_of_freedom = sample_size - 1\n",
    "    \n",
    "    if alternative == 'less':\n",
    "        p_value = stats.t.cdf(t_stat, degrees_of_freedom)\n",
    "    elif alternative == 'greater':\n",
    "        p_value = 1 - stats.t.cdf(t_stat, degrees_of_freedom)\n",
    "    else:  # two-sided\n",
    "        p_value = 2 * (1 - stats.t.cdf(abs(t_stat), degrees_of_freedom))\n",
    "    \n",
    "    if p_value < alpha:\n",
    "        decision = \"Reject the null hypothesis\"\n",
    "    else:\n",
    "        decision = \"Fail to reject the null hypothesis\"\n",
    "    \n",
    "    return t_stat, p_value, decision\n",
    "\n",
    "sample_mean = 4.8\n",
    "population_std = 0.5\n",
    "sample_size = 25\n",
    "hypothesized_mean = 5\n",
    "alpha = 0.01\n",
    "\n",
    "t_stat, p_value, decision = one_sample_t_test(sample_mean, population_std, sample_size, hypothesized_mean, alpha, alternative='less')\n",
    "\n",
    "print(f\"T-statistic: {t_stat:.4f}\")\n",
    "print(f\"P-value: {p_value:.4f}\")\n",
    "print(f\"Decision: {decision}\")\n"
   ]
  },
  {
   "cell_type": "code",
   "execution_count": 9,
   "id": "8bc65284-6849-4b42-800b-57e755f2497f",
   "metadata": {},
   "outputs": [
    {
     "name": "stdout",
     "output_type": "stream",
     "text": [
      "T-statistic: 2.3240\n",
      "Degrees of freedom: 68\n",
      "P-value: 0.0231\n",
      "Decision: Fail to reject the null hypothesis\n"
     ]
    }
   ],
   "source": [
    "## Q16. Two groups of students are given different study materials to prepare for a test. \n",
    "# The first group (n1 = 30) has a mean score of 80 with a standard deviation of 10, \n",
    "# and the second group (n2 = 40) has a mean score of 75 with a standard deviation of 8. \n",
    "#Test the hypothesis that the population means for the two groups are equal with a significance level of 0.01.\n",
    "\n",
    "import scipy.stats as stats\n",
    "import math\n",
    "\n",
    "def two_sample_t_test(mean1, std1, n1, mean2, std2, n2, alpha):\n",
    "    # Calculate pooled standard deviation\n",
    "    s_p = math.sqrt(((n1 - 1) * std1**2 + (n2 - 1) * std2**2) / (n1 + n2 - 2))\n",
    "    \n",
    "    # Calculate t-statistic\n",
    "    t_stat = (mean1 - mean2) / (s_p * math.sqrt(1/n1 + 1/n2))\n",
    "    \n",
    "    # Calculate degrees of freedom\n",
    "    df = n1 + n2 - 2\n",
    "    \n",
    "    # Calculate p-value (two-tailed test)\n",
    "    p_value = 2 * (1 - stats.t.cdf(abs(t_stat), df))\n",
    "    \n",
    "    # Make decision\n",
    "    if p_value < alpha:\n",
    "        decision = \"Reject the null hypothesis\"\n",
    "    else:\n",
    "        decision = \"Fail to reject the null hypothesis\"\n",
    "    \n",
    "    return t_stat, df, p_value, decision\n",
    "\n",
    "mean1, std1, n1 = 80, 10, 30\n",
    "mean2, std2, n2 = 75, 8, 40\n",
    "alpha = 0.01\n",
    "\n",
    "t_stat, df, p_value, decision = two_sample_t_test(mean1, std1, n1, mean2, std2, n2, alpha)\n",
    "\n",
    "print(f\"T-statistic: {t_stat:.4f}\")\n",
    "print(f\"Degrees of freedom: {df}\")\n",
    "print(f\"P-value: {p_value:.4f}\")\n",
    "print(f\"Decision: {decision}\")"
   ]
  },
  {
   "cell_type": "code",
   "execution_count": 10,
   "id": "8194e26d-1cfe-47ae-9ab1-88461aa226f7",
   "metadata": {},
   "outputs": [
    {
     "name": "stdout",
     "output_type": "stream",
     "text": [
      "99% Confidence Interval: (3.43, 4.57)\n"
     ]
    }
   ],
   "source": [
    "## Q17. A marketing company wants to estimate the average number of ads watched by viewers during a TV program. \n",
    "# They take a random sample of 50 viewers and find that the sample mean is 4 with a standard deviation of 1.5. \n",
    "# Estimate the population mean with a 99% confidence interval.\n",
    "\n",
    "import scipy.stats as stats\n",
    "\n",
    "def confidence_interval(sample_mean, sample_std, sample_size, confidence_level):\n",
    "    degrees_of_freedom = sample_size - 1\n",
    "    t_value = stats.t.ppf((1 + confidence_level) / 2, degrees_of_freedom)\n",
    "    margin_of_error = t_value * (sample_std / (sample_size ** 0.5))\n",
    "    \n",
    "    lower_bound = sample_mean - margin_of_error\n",
    "    upper_bound = sample_mean + margin_of_error\n",
    "    \n",
    "    return (lower_bound, upper_bound)\n",
    "\n",
    "sample_mean = 4\n",
    "sample_std = 1.5\n",
    "sample_size = 50\n",
    "confidence_level = 0.99\n",
    "\n",
    "ci = confidence_interval(sample_mean, sample_std, sample_size, confidence_level)\n",
    "print(f\"99% Confidence Interval: ({ci[0]:.2f}, {ci[1]:.2f})\")"
   ]
  },
  {
   "cell_type": "code",
   "execution_count": null,
   "id": "91d072b2-0e1d-40d8-9d4b-be1bfe5270fd",
   "metadata": {},
   "outputs": [],
   "source": []
  }
 ],
 "metadata": {
  "kernelspec": {
   "display_name": "Python 3 (ipykernel)",
   "language": "python",
   "name": "python3"
  },
  "language_info": {
   "codemirror_mode": {
    "name": "ipython",
    "version": 3
   },
   "file_extension": ".py",
   "mimetype": "text/x-python",
   "name": "python",
   "nbconvert_exporter": "python",
   "pygments_lexer": "ipython3",
   "version": "3.10.8"
  }
 },
 "nbformat": 4,
 "nbformat_minor": 5
}
